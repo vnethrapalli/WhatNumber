{
 "cells": [
  {
   "cell_type": "code",
   "execution_count": 1,
   "metadata": {},
   "outputs": [],
   "source": [
    "import numpy as np\n",
    "import pandas as pd\n",
    "import matplotlib.pyplot as plt"
   ]
  },
  {
   "cell_type": "markdown",
   "metadata": {},
   "source": [
    "# generating new data by shifting images"
   ]
  },
  {
   "cell_type": "code",
   "execution_count": 2,
   "metadata": {},
   "outputs": [],
   "source": [
    "df_train = pd.read_csv('mnist_train.csv')\n",
    "df_test = pd.read_csv('mnist_test.csv')"
   ]
  },
  {
   "cell_type": "code",
   "execution_count": 26,
   "metadata": {},
   "outputs": [
    {
     "name": "stdout",
     "output_type": "stream",
     "text": [
      "300000\n",
      "300000\n",
      "50000\n",
      "50000\n"
     ]
    }
   ],
   "source": [
    "shift = 4\n",
    "end = 28 - shift\n",
    "\n",
    "train = df_train.to_numpy()\n",
    "more_train = []\n",
    "more_ytrain_labels = []\n",
    "for idx, row in enumerate(train):\n",
    "    more_ytrain_labels.extend([[row[0]], [row[0]], [row[0]], [row[0]]])\n",
    "   \n",
    "    # reshape image; the float values go by columns, not rows; ie. the first 20 values make up the first COLUMN\n",
    "    img = row[1:]\n",
    "    img = img.reshape(28, 28)\n",
    "\n",
    "    # create new images\n",
    "    up = np.zeros((28, 28), dtype=int)\n",
    "    up[:end, :] = img[shift:, :]\n",
    "    \n",
    "    down = np.zeros((28, 28), dtype=int)\n",
    "    down[shift:, :] = img[:end, :]\n",
    "    \n",
    "    left = np.zeros((28, 28), dtype=int)\n",
    "    left[:, :end] = img[:, shift:]\n",
    "    \n",
    "    right = np.zeros((28, 28), dtype=int)\n",
    "    right[:, shift:] = img[:, :end]\n",
    "    \n",
    "    more_train.extend([up.flatten(), down.flatten(), left.flatten(), right.flatten()])\n",
    "    \n",
    "    \n",
    "test = df_test.to_numpy()\n",
    "more_test = []\n",
    "more_ytest_labels = []    \n",
    "for idx, row in enumerate(test):\n",
    "    more_ytest_labels.extend([[row[0]], [row[0]], [row[0]], [row[0]]])\n",
    "\n",
    "    # reshape image; the float values go by columns, not rows; ie. the first 20 values make up the first COLUMN\n",
    "    img = row[1:]\n",
    "    img = img.reshape(28, 28)\n",
    "\n",
    "    # create new images\n",
    "    up = np.zeros((28, 28), dtype=int)\n",
    "    up[:end, :] = img[shift:, :]\n",
    "    \n",
    "    down = np.zeros((28, 28), dtype=int)\n",
    "    down[shift:, :] = img[:end, :]\n",
    "    \n",
    "    left = np.zeros((28, 28), dtype=int)\n",
    "    left[:, :end] = img[:, shift:]\n",
    "    \n",
    "    right = np.zeros((28, 28), dtype=int)\n",
    "    right[:, shift:] = img[:, :end]\n",
    "    \n",
    "    more_test.extend([up.flatten(), down.flatten(), left.flatten(), right.flatten()])\n",
    "\n",
    "    \n",
    "# merge into one dataset\n",
    "xtrain = np.vstack((train[:, 1:], np.asarray(more_train)))\n",
    "xtrain = xtrain.reshape((len(xtrain), 1, 28, 28))\n",
    "print(len(xtrain))\n",
    "               \n",
    "ytrain = np.vstack((train[:, [0]], np.asarray(more_ytrain_labels)))\n",
    "print(len(ytrain)) \n",
    "               \n",
    "xtest = np.vstack((test[:, 1:], np.asarray(more_test)))\n",
    "xtest = xtest.reshape((len(xtest), 1, 28, 28))\n",
    "print(len(xtest))\n",
    "               \n",
    "ytest = np.vstack((test[:, [0]], np.asarray(more_ytest_labels)))\n",
    "print(len(ytest))"
   ]
  },
  {
   "cell_type": "code",
   "execution_count": 4,
   "metadata": {
    "scrolled": true
   },
   "outputs": [
    {
     "data": {
      "image/png": "[encoded data removed]",
      "text/plain": [
       "<Figure size 432x288 with 5 Axes>"
      ]
     },
     "metadata": {
      "needs_background": "light"
     },
     "output_type": "display_data"
    }
   ],
   "source": [
    "fig, ax = plt.subplots(nrows=1, ncols=5)\n",
    "example_shift = [train[0][1:], more_train[0], more_train[1], more_train[2], more_train[3]]\n",
    "for i, col in enumerate(ax):\n",
    "        col.axes.get_xaxis().set_visible(False)\n",
    "        col.axes.get_yaxis().set_visible(False)\n",
    "        col.imshow(example_shift[i].reshape((28, 28)), cmap='gray')\n",
    "        \n",
    "plt.show()"
   ]
  },
  {
   "cell_type": "markdown",
   "metadata": {},
   "source": [
    "# pytorch modeling"
   ]
  },
  {
   "cell_type": "code",
   "execution_count": 63,
   "metadata": {},
   "outputs": [],
   "source": [
    "import torch, torchvision\n",
    "from torch import nn\n",
    "from torch import optim\n",
    "from torchvision.transforms import ToTensor\n",
    "import torch.nn.functional as f\n",
    "from torch.utils.data import TensorDataset, DataLoader\n",
    "import copy"
   ]
  },
  {
   "cell_type": "markdown",
   "metadata": {},
   "source": [
    "## data formatting"
   ]
  },
  {
   "cell_type": "code",
   "execution_count": 6,
   "metadata": {},
   "outputs": [],
   "source": [
    "batch_size = 256\n",
    "## t = torchvision.transforms.Compose([ torchvision.transforms.ToTensor() ])"
   ]
  },
  {
   "cell_type": "code",
   "execution_count": 51,
   "metadata": {},
   "outputs": [],
   "source": [
    "# train_temp = torchvision.datasets.MNIST('mnist_data', train=True, download=True, transform=t)\n",
    "xtrain_tensor = torch.Tensor(xtrain)\n",
    "ytrain_tensor = torch.Tensor(ytrain)\n",
    "ytrain_tensor = ytrain_tensor.long()\n",
    "mnist = torch.utils.data.TensorDataset(xtrain_tensor, ytrain_tensor)\n",
    "mnist_dl = DataLoader(mnist, batch_size=batch_size)\n",
    "\n",
    "xtest_tensor = torch.Tensor(xtest)\n",
    "ytest_tensor = torch.Tensor(ytest)\n",
    "mnist_test = torch.utils.data.TensorDataset(xtest_tensor, ytest_tensor)\n",
    "mnist_test_dl = DataLoader(mnist_test)"
   ]
  },
  {
   "cell_type": "code",
   "execution_count": null,
   "metadata": {},
   "outputs": [],
   "source": []
  },
  {
   "cell_type": "markdown",
   "metadata": {},
   "source": [
    "## creating model"
   ]
  },
  {
   "cell_type": "code",
   "execution_count": 52,
   "metadata": {},
   "outputs": [],
   "source": [
    "def mnist_lenet5_classifier():\n",
    "    # input channel 1, output channel 6, kernel size 5\n",
    "    # 2 convolutional layers + 3 linear layers\n",
    "    model = nn.Sequential(\n",
    "        nn.Conv2d(1, 6, 5, padding=2),\n",
    "        nn.ReLU(),\n",
    "        nn.AvgPool2d(2, stride=2),\n",
    "        \n",
    "        nn.Conv2d(6, 16, 5, padding=0),\n",
    "        nn.ReLU(),\n",
    "        nn.AvgPool2d(2, stride=2),\n",
    "        \n",
    "        nn.Flatten(),\n",
    "        nn.Linear(400, 120),\n",
    "        nn.ReLU(),\n",
    "        nn.Linear(120, 84),\n",
    "        nn.ReLU(),\n",
    "        nn.Linear(84, 10) \n",
    "    )\n",
    "    \n",
    "    return model"
   ]
  },
  {
   "cell_type": "code",
   "execution_count": 64,
   "metadata": {},
   "outputs": [],
   "source": [
    "def prediction_accuracy(model, data):\n",
    "    total_imgs = 0\n",
    "    correct_preds = 0\n",
    "    \n",
    "    # data is a data loader\n",
    "    for i, (images, labels) in enumerate(data):\n",
    "        # digit output vector\n",
    "        out = model(images)\n",
    "        \n",
    "        # maximum output value and its index (ie. the digit)\n",
    "        value, pred = torch.max(out, 1)\n",
    "        \n",
    "        # count each image given as input; count correct\n",
    "        total_imgs += out.size(0)\n",
    "        correct_preds += torch.sum(pred == labels)\n",
    "        \n",
    "    return correct_preds * 100. / total_imgs\n",
    "           "
   ]
  },
  {
   "cell_type": "code",
   "execution_count": 65,
   "metadata": {},
   "outputs": [],
   "source": [
    " def cnn_train(num_epoch=5, lr=1e-3, device='cpu'):\n",
    "    accuracies = []\n",
    "    max_accuracy = 0\n",
    "\n",
    "    cnn = mnist_lenet5_classifier().to(device)\n",
    "    cel = nn.CrossEntropyLoss()\n",
    "    optimizer = optim.Adam(cnn.parameters(), lr=lr)\n",
    "\n",
    "    for ep in range(num_epoch):\n",
    "        for i, (images, labels) in enumerate(mnist_dl):\n",
    "            images = images.to(device)\n",
    "            labels = labels.to(device)\n",
    "            labels = torch.flatten(labels)\n",
    "            \n",
    "            # resets gradients\n",
    "            optimizer.zero_grad()\n",
    "\n",
    "            # outputs of model\n",
    "            pred = cnn(images)\n",
    "\n",
    "            # calculate loss + backpropagate\n",
    "            loss = cel(pred, labels)\n",
    "            loss.backward()\n",
    "\n",
    "            # perform parameter update\n",
    "            optimizer.step()\n",
    "\n",
    "        acc = float(prediction_accuracy(cnn, mnist_test_dl))\n",
    "        accuracies.append(acc)\n",
    "\n",
    "        # select model w best prediction accuracy\n",
    "        if acc > max_accuracy:\n",
    "            best_model = copy.deepcopy(cnn)\n",
    "            max_accuracy = acc\n",
    "            print(f'new best model with accuracy {acc}')\n",
    "\n",
    "        print(f'epoch {ep+1}: accuracy {acc}')\n",
    "            \n",
    "    # plot prediction accuracies by epoch\n",
    "    plt.plot(accuracies)\n",
    "    \n",
    "    return best_model"
   ]
  },
  {
   "cell_type": "markdown",
   "metadata": {},
   "source": [
    "## training"
   ]
  },
  {
   "cell_type": "code",
   "execution_count": 66,
   "metadata": {},
   "outputs": [
    {
     "name": "stdout",
     "output_type": "stream",
     "text": [
      "new best model with accuracy 95.77799987792969\n",
      "epoch 1172: accuracy 95.77799987792969\n",
      "new best model with accuracy 97.2959976196289\n",
      "epoch 1172: accuracy 97.2959976196289\n",
      "epoch 1172: accuracy 96.83000183105469\n",
      "new best model with accuracy 98.62200164794922\n",
      "epoch 1172: accuracy 98.62200164794922\n",
      "epoch 1172: accuracy 98.1520004272461\n"
     ]
    },
    {
     "data": {
      "image/png": "[encoded data removed]",
      "text/plain": [
       "<Figure size 432x288 with 1 Axes>"
      ]
     },
     "metadata": {
      "needs_background": "light"
     },
     "output_type": "display_data"
    }
   ],
   "source": [
    "lenet = cnn_train(num_epoch=5)"
   ]
  },
  {
   "cell_type": "markdown",
   "metadata": {},
   "source": [
    "## inference"
   ]
  }
 ],
 "metadata": {
  "kernelspec": {
   "display_name": "my_env",
   "language": "python",
   "name": "my_env"
  },
  "language_info": {
   "codemirror_mode": {
    "name": "ipython",
    "version": 3
   },
   "file_extension": ".py",
   "mimetype": "text/x-python",
   "name": "python",
   "nbconvert_exporter": "python",
   "pygments_lexer": "ipython3",
   "version": "3.6.12"
  }
 },
 "nbformat": 4,
 "nbformat_minor": 4
}
