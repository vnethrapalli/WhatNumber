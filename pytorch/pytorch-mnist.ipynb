{
 "cells": [
  {
   "cell_type": "code",
   "execution_count": 1,
   "metadata": {},
   "outputs": [
    {
     "name": "stderr",
     "output_type": "stream",
     "text": [
      "C:\\Users\\vigne\\Anaconda3\\envs\\my_env\\lib\\importlib\\_bootstrap.py:219: RuntimeWarning: numpy.ufunc size changed, may indicate binary incompatibility. Expected 192 from C header, got 216 from PyObject\n",
      "  return f(*args, **kwds)\n"
     ]
    }
   ],
   "source": [
    "import numpy as np\n",
    "import pandas as pd\n",
    "import matplotlib.pyplot as plt"
   ]
  },
  {
   "cell_type": "markdown",
   "metadata": {},
   "source": [
    "# generating new data by shifting images"
   ]
  },
  {
   "cell_type": "code",
   "execution_count": 2,
   "metadata": {},
   "outputs": [],
   "source": [
    "df_train = pd.read_csv('mnist_train.csv')\n",
    "df_test = pd.read_csv('mnist_test.csv')"
   ]
  },
  {
   "cell_type": "code",
   "execution_count": 6,
   "metadata": {},
   "outputs": [
    {
     "name": "stdout",
     "output_type": "stream",
     "text": [
      "300000\n",
      "300000\n",
      "50000\n",
      "50000\n"
     ]
    }
   ],
   "source": [
    "shift = 4\n",
    "end = 28 - shift\n",
    "\n",
    "train = df_train.to_numpy().astype(np.float32)\n",
    "train[:, 1:] = train[:, 1:] / 255\n",
    "more_train = []\n",
    "more_ytrain_labels = []\n",
    "for idx, row in enumerate(train):\n",
    "    more_ytrain_labels.extend([[row[0]], [row[0]], [row[0]], [row[0]]])\n",
    "   \n",
    "    # reshape image; the float values go by columns, not rows; ie. the first 20 values make up the first COLUMN\n",
    "    img = row[1:]\n",
    "    img = img.reshape(28, 28)\n",
    "\n",
    "    # create new images\n",
    "    up = np.zeros((28, 28), dtype=np.float32)\n",
    "    up[:end, :] = img[shift:, :]\n",
    "    \n",
    "    down = np.zeros((28, 28), dtype=np.float32)\n",
    "    down[shift:, :] = img[:end, :]\n",
    "    \n",
    "    left = np.zeros((28, 28), dtype=np.float32)\n",
    "    left[:, :end] = img[:, shift:]\n",
    "    \n",
    "    right = np.zeros((28, 28), dtype=np.float32)\n",
    "    right[:, shift:] = img[:, :end]\n",
    "    \n",
    "    more_train.extend([up.flatten(), down.flatten(), left.flatten(), right.flatten()])\n",
    "    \n",
    "    \n",
    "test = df_test.to_numpy().astype(np.float32)\n",
    "test[:, 1:] = test[:, 1:] / 255\n",
    "more_test = []\n",
    "more_ytest_labels = []    \n",
    "for idx, row in enumerate(test):\n",
    "    more_ytest_labels.extend([[row[0]], [row[0]], [row[0]], [row[0]]])\n",
    "\n",
    "    # reshape image; the float values go by columns, not rows; ie. the first 20 values make up the first COLUMN\n",
    "    img = row[1:]\n",
    "    img = img.reshape(28, 28)\n",
    "\n",
    "    # create new images\n",
    "    up = np.zeros((28, 28), dtype=np.float32)\n",
    "    up[:end, :] = img[shift:, :]\n",
    "    \n",
    "    down = np.zeros((28, 28), dtype=np.float32)\n",
    "    down[shift:, :] = img[:end, :]\n",
    "    \n",
    "    left = np.zeros((28, 28), dtype=np.float32)\n",
    "    left[:, :end] = img[:, shift:]\n",
    "    \n",
    "    right = np.zeros((28, 28), dtype=np.float32)\n",
    "    right[:, shift:] = img[:, :end]\n",
    "    \n",
    "    more_test.extend([up.flatten(), down.flatten(), left.flatten(), right.flatten()])\n",
    "\n",
    "    \n",
    "# merge into one dataset\n",
    "xtrain = np.vstack((train[:, 1:], np.asarray(more_train)))\n",
    "xtrain = xtrain.reshape((len(xtrain), 1, 28, 28))\n",
    "print(len(xtrain))\n",
    "               \n",
    "ytrain = np.vstack((train[:, [0]], np.asarray(more_ytrain_labels)))\n",
    "print(len(ytrain)) \n",
    "               \n",
    "xtest = np.vstack((test[:, 1:], np.asarray(more_test)))\n",
    "xtest = xtest.reshape((len(xtest), 1, 28, 28))\n",
    "print(len(xtest))\n",
    "               \n",
    "ytest = np.vstack((test[:, [0]], np.asarray(more_ytest_labels)))\n",
    "print(len(ytest))"
   ]
  },
  {
   "cell_type": "code",
   "execution_count": 7,
   "metadata": {
    "scrolled": true
   },
   "outputs": [
    {
     "data": {
      "image/png": "[encoded data removed]",
      "text/plain": [
       "<Figure size 432x288 with 5 Axes>"
      ]
     },
     "metadata": {
      "needs_background": "light"
     },
     "output_type": "display_data"
    }
   ],
   "source": [
    "fig, ax = plt.subplots(nrows=1, ncols=5)\n",
    "example_shift = [train[0][1:] * 255, more_train[0] * 255, more_train[1] * 255, more_train[2] * 255, more_train[3] * 255]\n",
    "for i, col in enumerate(ax):\n",
    "        col.axes.get_xaxis().set_visible(False)\n",
    "        col.axes.get_yaxis().set_visible(False)\n",
    "        col.imshow(example_shift[i].reshape((28, 28)), cmap='gray')\n",
    "        \n",
    "plt.show()"
   ]
  },
  {
   "cell_type": "markdown",
   "metadata": {},
   "source": [
    "# pytorch modeling"
   ]
  },
  {
   "cell_type": "code",
   "execution_count": 8,
   "metadata": {},
   "outputs": [],
   "source": [
    "import torch, torchvision\n",
    "from torch import nn\n",
    "from torch import optim\n",
    "from torchvision.transforms import ToTensor\n",
    "import torch.nn.functional as f\n",
    "from torch.utils.data import TensorDataset, DataLoader\n",
    "import copy"
   ]
  },
  {
   "cell_type": "markdown",
   "metadata": {},
   "source": [
    "## data formatting"
   ]
  },
  {
   "cell_type": "code",
   "execution_count": 9,
   "metadata": {},
   "outputs": [],
   "source": [
    "batch_size = 256\n",
    "## t = torchvision.transforms.Compose([ torchvision.transforms.ToTensor() ])"
   ]
  },
  {
   "cell_type": "code",
   "execution_count": 10,
   "metadata": {},
   "outputs": [],
   "source": [
    "# train_temp = torchvision.datasets.MNIST('mnist_data', train=True, download=True, transform=t)\n",
    "xtrain_tensor = torch.Tensor(xtrain)\n",
    "ytrain_tensor = torch.Tensor(ytrain)\n",
    "ytrain_tensor = ytrain_tensor.long()\n",
    "mnist = torch.utils.data.TensorDataset(xtrain_tensor, ytrain_tensor)\n",
    "mnist_dl = DataLoader(mnist, batch_size=batch_size)\n",
    "\n",
    "xtest_tensor = torch.Tensor(xtest)\n",
    "ytest_tensor = torch.Tensor(ytest)\n",
    "mnist_test = torch.utils.data.TensorDataset(xtest_tensor, ytest_tensor)\n",
    "mnist_test_dl = DataLoader(mnist_test)"
   ]
  },
  {
   "cell_type": "markdown",
   "metadata": {},
   "source": [
    "## creating model"
   ]
  },
  {
   "cell_type": "code",
   "execution_count": 11,
   "metadata": {},
   "outputs": [],
   "source": [
    "def mnist_lenet5_classifier():\n",
    "    # input channel 1, output channel 6, kernel size 5\n",
    "    # 2 convolutional layers + 3 linear layers\n",
    "    model = nn.Sequential(\n",
    "        nn.Conv2d(1, 6, 5, padding=2),\n",
    "        nn.ReLU(),\n",
    "        nn.AvgPool2d(2, stride=2),\n",
    "        \n",
    "        nn.Conv2d(6, 16, 5, padding=0),\n",
    "        nn.ReLU(),\n",
    "        nn.AvgPool2d(2, stride=2),\n",
    "        \n",
    "        nn.Flatten(),\n",
    "        nn.Linear(400, 120),\n",
    "        nn.ReLU(),\n",
    "        nn.Linear(120, 84),\n",
    "        nn.ReLU(),\n",
    "        nn.Linear(84, 10) \n",
    "    )\n",
    "    \n",
    "    return model"
   ]
  },
  {
   "cell_type": "code",
   "execution_count": 12,
   "metadata": {},
   "outputs": [],
   "source": [
    "def prediction_accuracy(model, data):\n",
    "    total_imgs = 0\n",
    "    correct_preds = 0\n",
    "    \n",
    "    # data is a data loader\n",
    "    for i, (images, labels) in enumerate(data):\n",
    "        # digit output vector\n",
    "        out = model(images)\n",
    "        \n",
    "        # maximum output value and its index (ie. the digit)\n",
    "        value, pred = torch.max(out, 1)\n",
    "        \n",
    "        # count each image given as input; count correct\n",
    "        total_imgs += out.size(0)\n",
    "        correct_preds += torch.sum(pred == labels)\n",
    "        \n",
    "    return correct_preds * 100. / total_imgs\n",
    "           "
   ]
  },
  {
   "cell_type": "code",
   "execution_count": 13,
   "metadata": {},
   "outputs": [],
   "source": [
    " def cnn_train(num_epoch=5, lr=1e-3, device='cpu'):\n",
    "    accuracies = []\n",
    "    max_accuracy = 0\n",
    "\n",
    "    cnn = mnist_lenet5_classifier().to(device)\n",
    "    cel = nn.CrossEntropyLoss()\n",
    "    optimizer = optim.Adam(cnn.parameters(), lr=lr)\n",
    "\n",
    "    for ep in range(num_epoch):\n",
    "        for i, (images, labels) in enumerate(mnist_dl):\n",
    "            images = images.to(device)\n",
    "            labels = labels.to(device)\n",
    "            labels = torch.flatten(labels)\n",
    "            \n",
    "            # resets gradients\n",
    "            optimizer.zero_grad()\n",
    "\n",
    "            # outputs of model\n",
    "            pred = cnn(images)\n",
    "\n",
    "            # calculate loss + backpropagate\n",
    "            loss = cel(pred, labels)\n",
    "            loss.backward()\n",
    "\n",
    "            # perform parameter update\n",
    "            optimizer.step()\n",
    "\n",
    "        acc = float(prediction_accuracy(cnn, mnist_test_dl))\n",
    "        accuracies.append(acc)\n",
    "\n",
    "        # select model w best prediction accuracy\n",
    "        if acc > max_accuracy:\n",
    "            best_model = copy.deepcopy(cnn)\n",
    "            max_accuracy = acc\n",
    "            print(f'new best model with accuracy {acc}')\n",
    "\n",
    "        print(f'epoch {ep+1}: accuracy {acc}')\n",
    "            \n",
    "    # plot prediction accuracies by epoch\n",
    "    plt.plot(accuracies)\n",
    "    \n",
    "    return best_model"
   ]
  },
  {
   "cell_type": "markdown",
   "metadata": {},
   "source": [
    "## training"
   ]
  },
  {
   "cell_type": "code",
   "execution_count": 14,
   "metadata": {},
   "outputs": [
    {
     "name": "stdout",
     "output_type": "stream",
     "text": [
      "new best model with accuracy 91.81800079345703\n",
      "epoch 1: accuracy 91.81800079345703\n",
      "new best model with accuracy 94.39600372314453\n",
      "epoch 2: accuracy 94.39600372314453\n",
      "new best model with accuracy 95.3479995727539\n",
      "epoch 3: accuracy 95.3479995727539\n",
      "new best model with accuracy 96.95999908447266\n",
      "epoch 4: accuracy 96.95999908447266\n",
      "new best model with accuracy 97.66600036621094\n",
      "epoch 5: accuracy 97.66600036621094\n",
      "new best model with accuracy 97.98200225830078\n",
      "epoch 6: accuracy 97.98200225830078\n",
      "new best model with accuracy 98.16400146484375\n",
      "epoch 7: accuracy 98.16400146484375\n",
      "new best model with accuracy 98.25199890136719\n",
      "epoch 8: accuracy 98.25199890136719\n",
      "new best model with accuracy 98.39399719238281\n",
      "epoch 9: accuracy 98.39399719238281\n",
      "new best model with accuracy 98.44000244140625\n",
      "epoch 10: accuracy 98.44000244140625\n",
      "new best model with accuracy 98.49600219726562\n",
      "epoch 11: accuracy 98.49600219726562\n",
      "new best model with accuracy 98.52200317382812\n",
      "epoch 12: accuracy 98.52200317382812\n",
      "new best model with accuracy 98.5479965209961\n",
      "epoch 13: accuracy 98.5479965209961\n",
      "new best model with accuracy 98.60199737548828\n",
      "epoch 14: accuracy 98.60199737548828\n",
      "epoch 15: accuracy 98.58799743652344\n",
      "epoch 16: accuracy 98.51200103759766\n",
      "new best model with accuracy 98.60600280761719\n",
      "epoch 17: accuracy 98.60600280761719\n",
      "epoch 18: accuracy 98.51799774169922\n",
      "epoch 19: accuracy 98.55599975585938\n",
      "epoch 20: accuracy 98.46600341796875\n"
     ]
    },
    {
     "data": {
      "image/png": "[encoded data removed]",
      "text/plain": [
       "<Figure size 432x288 with 1 Axes>"
      ]
     },
     "metadata": {
      "needs_background": "light"
     },
     "output_type": "display_data"
    }
   ],
   "source": [
    "lenet = cnn_train(num_epoch=20)"
   ]
  },
  {
   "cell_type": "code",
   "execution_count": 39,
   "metadata": {},
   "outputs": [],
   "source": [
    "torch.save(lenet, 'mnist_lenet.pth')"
   ]
  },
  {
   "cell_type": "markdown",
   "metadata": {},
   "source": [
    "## inference"
   ]
  },
  {
   "cell_type": "code",
   "execution_count": 15,
   "metadata": {},
   "outputs": [
    {
     "name": "stderr",
     "output_type": "stream",
     "text": [
      "WARNING:root:Device support is limited in daal4py patching. Use Intel(R) Extension for Scikit-learn* for full experience.\n"
     ]
    }
   ],
   "source": [
    "from sklearn.metrics import confusion_matrix"
   ]
  },
  {
   "cell_type": "code",
   "execution_count": 18,
   "metadata": {},
   "outputs": [],
   "source": [
    "def predict(model, data):\n",
    "    y_pred = []\n",
    "    y_true = []\n",
    "    for i, (images, labels) in enumerate(data):\n",
    "        out = model(images)\n",
    "        val, pred = torch.max(out, 1)\n",
    "        y_pred.extend(list(pred.numpy()))\n",
    "        y_true.extend(list(labels.numpy()))\n",
    "        \n",
    "    return np.array(y_pred), np.array(y_true)"
   ]
  },
  {
   "cell_type": "code",
   "execution_count": 17,
   "metadata": {},
   "outputs": [
    {
     "data": {
      "text/html": [
       "<div>\n",
       "<style scoped>\n",
       "    .dataframe tbody tr th:only-of-type {\n",
       "        vertical-align: middle;\n",
       "    }\n",
       "\n",
       "    .dataframe tbody tr th {\n",
       "        vertical-align: top;\n",
       "    }\n",
       "\n",
       "    .dataframe thead th {\n",
       "        text-align: right;\n",
       "    }\n",
       "</style>\n",
       "<table border=\"1\" class=\"dataframe\">\n",
       "  <thead>\n",
       "    <tr style=\"text-align: right;\">\n",
       "      <th></th>\n",
       "      <th>0</th>\n",
       "      <th>1</th>\n",
       "      <th>2</th>\n",
       "      <th>3</th>\n",
       "      <th>4</th>\n",
       "      <th>5</th>\n",
       "      <th>6</th>\n",
       "      <th>7</th>\n",
       "      <th>8</th>\n",
       "      <th>9</th>\n",
       "    </tr>\n",
       "  </thead>\n",
       "  <tbody>\n",
       "    <tr>\n",
       "      <th>0</th>\n",
       "      <td>4878</td>\n",
       "      <td>0</td>\n",
       "      <td>3</td>\n",
       "      <td>0</td>\n",
       "      <td>0</td>\n",
       "      <td>2</td>\n",
       "      <td>0</td>\n",
       "      <td>3</td>\n",
       "      <td>5</td>\n",
       "      <td>9</td>\n",
       "    </tr>\n",
       "    <tr>\n",
       "      <th>1</th>\n",
       "      <td>1</td>\n",
       "      <td>5660</td>\n",
       "      <td>2</td>\n",
       "      <td>4</td>\n",
       "      <td>0</td>\n",
       "      <td>0</td>\n",
       "      <td>1</td>\n",
       "      <td>6</td>\n",
       "      <td>1</td>\n",
       "      <td>0</td>\n",
       "    </tr>\n",
       "    <tr>\n",
       "      <th>2</th>\n",
       "      <td>10</td>\n",
       "      <td>17</td>\n",
       "      <td>5073</td>\n",
       "      <td>19</td>\n",
       "      <td>4</td>\n",
       "      <td>0</td>\n",
       "      <td>1</td>\n",
       "      <td>25</td>\n",
       "      <td>6</td>\n",
       "      <td>5</td>\n",
       "    </tr>\n",
       "    <tr>\n",
       "      <th>3</th>\n",
       "      <td>0</td>\n",
       "      <td>0</td>\n",
       "      <td>3</td>\n",
       "      <td>5011</td>\n",
       "      <td>0</td>\n",
       "      <td>7</td>\n",
       "      <td>0</td>\n",
       "      <td>9</td>\n",
       "      <td>10</td>\n",
       "      <td>10</td>\n",
       "    </tr>\n",
       "    <tr>\n",
       "      <th>4</th>\n",
       "      <td>1</td>\n",
       "      <td>2</td>\n",
       "      <td>2</td>\n",
       "      <td>0</td>\n",
       "      <td>4836</td>\n",
       "      <td>0</td>\n",
       "      <td>16</td>\n",
       "      <td>8</td>\n",
       "      <td>1</td>\n",
       "      <td>44</td>\n",
       "    </tr>\n",
       "    <tr>\n",
       "      <th>5</th>\n",
       "      <td>3</td>\n",
       "      <td>0</td>\n",
       "      <td>0</td>\n",
       "      <td>59</td>\n",
       "      <td>0</td>\n",
       "      <td>4380</td>\n",
       "      <td>3</td>\n",
       "      <td>3</td>\n",
       "      <td>6</td>\n",
       "      <td>6</td>\n",
       "    </tr>\n",
       "    <tr>\n",
       "      <th>6</th>\n",
       "      <td>24</td>\n",
       "      <td>17</td>\n",
       "      <td>0</td>\n",
       "      <td>2</td>\n",
       "      <td>10</td>\n",
       "      <td>49</td>\n",
       "      <td>4668</td>\n",
       "      <td>0</td>\n",
       "      <td>20</td>\n",
       "      <td>0</td>\n",
       "    </tr>\n",
       "    <tr>\n",
       "      <th>7</th>\n",
       "      <td>1</td>\n",
       "      <td>14</td>\n",
       "      <td>42</td>\n",
       "      <td>6</td>\n",
       "      <td>1</td>\n",
       "      <td>0</td>\n",
       "      <td>0</td>\n",
       "      <td>5059</td>\n",
       "      <td>10</td>\n",
       "      <td>7</td>\n",
       "    </tr>\n",
       "    <tr>\n",
       "      <th>8</th>\n",
       "      <td>13</td>\n",
       "      <td>4</td>\n",
       "      <td>11</td>\n",
       "      <td>21</td>\n",
       "      <td>2</td>\n",
       "      <td>10</td>\n",
       "      <td>1</td>\n",
       "      <td>7</td>\n",
       "      <td>4790</td>\n",
       "      <td>11</td>\n",
       "    </tr>\n",
       "    <tr>\n",
       "      <th>9</th>\n",
       "      <td>4</td>\n",
       "      <td>5</td>\n",
       "      <td>1</td>\n",
       "      <td>12</td>\n",
       "      <td>31</td>\n",
       "      <td>2</td>\n",
       "      <td>0</td>\n",
       "      <td>19</td>\n",
       "      <td>23</td>\n",
       "      <td>4948</td>\n",
       "    </tr>\n",
       "  </tbody>\n",
       "</table>\n",
       "</div>"
      ],
      "text/plain": [
       "      0     1     2     3     4     5     6     7     8     9\n",
       "0  4878     0     3     0     0     2     0     3     5     9\n",
       "1     1  5660     2     4     0     0     1     6     1     0\n",
       "2    10    17  5073    19     4     0     1    25     6     5\n",
       "3     0     0     3  5011     0     7     0     9    10    10\n",
       "4     1     2     2     0  4836     0    16     8     1    44\n",
       "5     3     0     0    59     0  4380     3     3     6     6\n",
       "6    24    17     0     2    10    49  4668     0    20     0\n",
       "7     1    14    42     6     1     0     0  5059    10     7\n",
       "8    13     4    11    21     2    10     1     7  4790    11\n",
       "9     4     5     1    12    31     2     0    19    23  4948"
      ]
     },
     "execution_count": 17,
     "metadata": {},
     "output_type": "execute_result"
    }
   ],
   "source": [
    "# visualizing predictions on the testing set\n",
    "y_pred, y_true = predict(lenet, mnist_test_dl)\n",
    "pd.DataFrame(confusion_matrix(y_true, y_pred, labels=np.arange(0,10)))"
   ]
  },
  {
   "cell_type": "markdown",
   "metadata": {},
   "source": [
    "## testing on new data"
   ]
  },
  {
   "cell_type": "code",
   "execution_count": 19,
   "metadata": {},
   "outputs": [],
   "source": [
    "import requests\n",
    "import io\n",
    "import cv2\n",
    "from PIL import Image"
   ]
  },
  {
   "cell_type": "code",
   "execution_count": 29,
   "metadata": {},
   "outputs": [
    {
     "data": {
      "text/plain": [
       "tensor([[[[0.0000, 0.0000, 0.0000, 0.0000, 0.0000, 0.0000, 0.0000, 0.0000,\n",
       "           0.0000, 0.0000, 0.0000, 0.0000, 0.0000, 0.0000, 0.0000, 0.0000,\n",
       "           0.0000, 0.0000, 0.0000, 0.0000, 0.0000, 0.0000, 0.0000, 0.0000,\n",
       "           0.0000, 0.0000, 0.0000, 0.0000],\n",
       "          [0.0000, 0.0000, 0.0000, 0.0000, 0.0000, 0.0000, 0.0000, 0.0000,\n",
       "           0.0000, 0.0000, 0.0000, 0.0000, 0.0000, 0.0000, 0.0000, 0.0000,\n",
       "           0.0000, 0.0000, 0.0000, 0.0000, 0.0000, 0.0000, 0.0000, 0.0000,\n",
       "           0.0000, 0.0000, 0.0000, 0.0000],\n",
       "          [0.0000, 0.0000, 0.0000, 0.0000, 0.0000, 0.0000, 0.0000, 0.0000,\n",
       "           0.0000, 0.0000, 0.0000, 0.0000, 0.0000, 0.0000, 0.0000, 0.0000,\n",
       "           0.0000, 0.0000, 0.0000, 0.0000, 0.0000, 0.0000, 0.0000, 0.0000,\n",
       "           0.0000, 0.0000, 0.0000, 0.0000],\n",
       "          [0.0000, 0.0000, 0.0000, 0.0000, 0.0000, 0.0000, 0.0000, 0.0000,\n",
       "           0.0000, 0.0235, 0.0745, 0.0863, 0.1020, 0.0941, 0.0941, 0.0667,\n",
       "           0.0275, 0.0196, 0.0000, 0.0000, 0.0000, 0.0000, 0.0000, 0.0000,\n",
       "           0.0000, 0.0000, 0.0000, 0.0000],\n",
       "          [0.0000, 0.0000, 0.0000, 0.0000, 0.0000, 0.0000, 0.0353, 0.0863,\n",
       "           0.1255, 0.3216, 0.6039, 0.6667, 0.7569, 0.7216, 0.7098, 0.5647,\n",
       "           0.3451, 0.2824, 0.0667, 0.0000, 0.0000, 0.0000, 0.0000, 0.0000,\n",
       "           0.0000, 0.0000, 0.0000, 0.0000],\n",
       "          [0.0000, 0.0000, 0.0000, 0.0000, 0.0000, 0.0471, 0.4510, 0.8157,\n",
       "           0.8706, 0.9373, 0.9529, 0.9529, 0.9569, 0.9333, 0.9294, 0.9569,\n",
       "           0.9765, 0.9294, 0.5451, 0.0980, 0.0039, 0.0000, 0.0000, 0.0000,\n",
       "           0.0000, 0.0000, 0.0000, 0.0000],\n",
       "          [0.0000, 0.0000, 0.0000, 0.0000, 0.0000, 0.1451, 0.8627, 0.9961,\n",
       "           0.8588, 0.6549, 0.5647, 0.5608, 0.5412, 0.4000, 0.4000, 0.6235,\n",
       "           0.8275, 0.9608, 0.9490, 0.4235, 0.0314, 0.0000, 0.0000, 0.0000,\n",
       "           0.0000, 0.0000, 0.0000, 0.0000],\n",
       "          [0.0000, 0.0000, 0.0000, 0.0000, 0.0000, 0.0706, 0.5569, 0.7490,\n",
       "           0.1765, 0.0196, 0.0118, 0.0118, 0.0078, 0.0039, 0.0039, 0.0078,\n",
       "           0.1255, 0.7843, 0.9765, 0.5176, 0.0431, 0.0000, 0.0000, 0.0000,\n",
       "           0.0000, 0.0000, 0.0000, 0.0000],\n",
       "          [0.0000, 0.0000, 0.0000, 0.0000, 0.0000, 0.0000, 0.0196, 0.0980,\n",
       "           0.0078, 0.0000, 0.0000, 0.0000, 0.0000, 0.0000, 0.0000, 0.0314,\n",
       "           0.4157, 0.9373, 0.9765, 0.4784, 0.0392, 0.0000, 0.0000, 0.0000,\n",
       "           0.0000, 0.0000, 0.0000, 0.0000],\n",
       "          [0.0000, 0.0000, 0.0000, 0.0000, 0.0000, 0.0000, 0.0000, 0.0000,\n",
       "           0.0000, 0.0000, 0.0000, 0.0000, 0.0000, 0.0000, 0.0510, 0.3922,\n",
       "           0.9020, 0.9922, 0.8078, 0.2235, 0.0078, 0.0000, 0.0000, 0.0000,\n",
       "           0.0000, 0.0000, 0.0000, 0.0000],\n",
       "          [0.0000, 0.0000, 0.0000, 0.0000, 0.0000, 0.0000, 0.0000, 0.0000,\n",
       "           0.0000, 0.0000, 0.0000, 0.0000, 0.0000, 0.1098, 0.4314, 0.9137,\n",
       "           1.0000, 0.8157, 0.3059, 0.0275, 0.0000, 0.0000, 0.0000, 0.0000,\n",
       "           0.0000, 0.0000, 0.0000, 0.0000],\n",
       "          [0.0000, 0.0000, 0.0000, 0.0000, 0.0000, 0.0000, 0.0000, 0.0000,\n",
       "           0.0000, 0.0000, 0.0000, 0.0235, 0.1765, 0.6667, 0.9412, 0.9412,\n",
       "           0.7294, 0.2235, 0.0196, 0.0000, 0.0000, 0.0000, 0.0000, 0.0000,\n",
       "           0.0000, 0.0000, 0.0000, 0.0000],\n",
       "          [0.0000, 0.0000, 0.0000, 0.0000, 0.0000, 0.0000, 0.0000, 0.0000,\n",
       "           0.0000, 0.0000, 0.0039, 0.2471, 0.7843, 0.9922, 0.9765, 0.5882,\n",
       "           0.0941, 0.0000, 0.0000, 0.0000, 0.0000, 0.0000, 0.0000, 0.0000,\n",
       "           0.0000, 0.0000, 0.0000, 0.0000],\n",
       "          [0.0000, 0.0000, 0.0000, 0.0000, 0.0000, 0.0000, 0.0000, 0.0000,\n",
       "           0.0000, 0.0000, 0.0196, 0.5255, 0.9843, 1.0000, 0.9686, 0.5686,\n",
       "           0.2000, 0.0510, 0.0078, 0.0000, 0.0000, 0.0000, 0.0000, 0.0000,\n",
       "           0.0000, 0.0000, 0.0000, 0.0000],\n",
       "          [0.0000, 0.0000, 0.0000, 0.0000, 0.0000, 0.0000, 0.0000, 0.0000,\n",
       "           0.0000, 0.0000, 0.0235, 0.5294, 0.9020, 0.9333, 0.9647, 0.9804,\n",
       "           0.8706, 0.5529, 0.2627, 0.0627, 0.0000, 0.0000, 0.0000, 0.0000,\n",
       "           0.0000, 0.0000, 0.0000, 0.0000],\n",
       "          [0.0000, 0.0000, 0.0000, 0.0000, 0.0000, 0.0000, 0.0000, 0.0000,\n",
       "           0.0000, 0.0000, 0.0000, 0.0706, 0.3059, 0.3961, 0.6471, 0.8902,\n",
       "           0.9647, 0.9843, 0.8863, 0.4941, 0.0627, 0.0000, 0.0000, 0.0000,\n",
       "           0.0000, 0.0000, 0.0000, 0.0000],\n",
       "          [0.0000, 0.0000, 0.0000, 0.0000, 0.0000, 0.0000, 0.0000, 0.0000,\n",
       "           0.0000, 0.0000, 0.0000, 0.0000, 0.0157, 0.0235, 0.0510, 0.1255,\n",
       "           0.4196, 0.7529, 0.9255, 0.9373, 0.4824, 0.0196, 0.0000, 0.0000,\n",
       "           0.0000, 0.0000, 0.0000, 0.0000],\n",
       "          [0.0000, 0.0000, 0.0000, 0.0000, 0.0000, 0.0000, 0.0000, 0.0000,\n",
       "           0.0000, 0.0000, 0.0000, 0.0000, 0.0000, 0.0000, 0.0000, 0.0000,\n",
       "           0.0000, 0.1020, 0.4784, 0.9373, 0.8549, 0.1294, 0.0039, 0.0000,\n",
       "           0.0000, 0.0000, 0.0000, 0.0000],\n",
       "          [0.0000, 0.0000, 0.0000, 0.0000, 0.0000, 0.0000, 0.0000, 0.0000,\n",
       "           0.0000, 0.0000, 0.0000, 0.0000, 0.0000, 0.0000, 0.0000, 0.0000,\n",
       "           0.0000, 0.0000, 0.0510, 0.7098, 0.9412, 0.4902, 0.0431, 0.0000,\n",
       "           0.0000, 0.0000, 0.0000, 0.0000],\n",
       "          [0.0000, 0.0000, 0.0000, 0.0000, 0.0000, 0.0000, 0.0000, 0.0000,\n",
       "           0.0000, 0.0000, 0.0000, 0.0000, 0.0000, 0.0000, 0.0000, 0.0000,\n",
       "           0.0000, 0.0000, 0.0000, 0.4980, 0.9373, 0.7098, 0.0745, 0.0000,\n",
       "           0.0000, 0.0000, 0.0000, 0.0000],\n",
       "          [0.0000, 0.0000, 0.0000, 0.0000, 0.0000, 0.0000, 0.0000, 0.0000,\n",
       "           0.0157, 0.0275, 0.0275, 0.0275, 0.0275, 0.0275, 0.0275, 0.0275,\n",
       "           0.0314, 0.0784, 0.1647, 0.5804, 0.9490, 0.7137, 0.0745, 0.0000,\n",
       "           0.0000, 0.0000, 0.0000, 0.0000],\n",
       "          [0.0000, 0.0000, 0.0000, 0.0000, 0.0000, 0.0000, 0.0118, 0.1333,\n",
       "           0.3333, 0.3843, 0.3843, 0.3843, 0.3843, 0.3843, 0.3843, 0.3804,\n",
       "           0.4000, 0.6235, 0.8745, 0.9922, 0.9373, 0.5529, 0.0549, 0.0000,\n",
       "           0.0000, 0.0000, 0.0000, 0.0000],\n",
       "          [0.0000, 0.0000, 0.0000, 0.0000, 0.0000, 0.0000, 0.0706, 0.6824,\n",
       "           0.9686, 1.0000, 0.9843, 1.0000, 0.9882, 1.0000, 1.0000, 1.0000,\n",
       "           1.0000, 1.0000, 0.9608, 0.8902, 0.6157, 0.1765, 0.0118, 0.0000,\n",
       "           0.0000, 0.0000, 0.0000, 0.0000],\n",
       "          [0.0000, 0.0000, 0.0000, 0.0000, 0.0000, 0.0000, 0.0510, 0.5137,\n",
       "           0.8784, 0.9020, 0.8078, 0.8784, 0.8157, 0.8824, 0.9059, 0.9059,\n",
       "           0.9098, 0.8745, 0.5882, 0.2745, 0.0431, 0.0039, 0.0000, 0.0000,\n",
       "           0.0000, 0.0000, 0.0000, 0.0000],\n",
       "          [0.0000, 0.0000, 0.0000, 0.0000, 0.0000, 0.0000, 0.0039, 0.0353,\n",
       "           0.0627, 0.0667, 0.0588, 0.0627, 0.0588, 0.0627, 0.0667, 0.0667,\n",
       "           0.0667, 0.0627, 0.0392, 0.0118, 0.0000, 0.0000, 0.0000, 0.0000,\n",
       "           0.0000, 0.0000, 0.0000, 0.0000],\n",
       "          [0.0000, 0.0000, 0.0000, 0.0000, 0.0000, 0.0000, 0.0000, 0.0000,\n",
       "           0.0000, 0.0000, 0.0000, 0.0000, 0.0000, 0.0000, 0.0000, 0.0000,\n",
       "           0.0000, 0.0000, 0.0000, 0.0000, 0.0000, 0.0000, 0.0000, 0.0000,\n",
       "           0.0000, 0.0000, 0.0000, 0.0000],\n",
       "          [0.0000, 0.0000, 0.0000, 0.0000, 0.0000, 0.0000, 0.0000, 0.0000,\n",
       "           0.0000, 0.0000, 0.0000, 0.0000, 0.0000, 0.0000, 0.0000, 0.0000,\n",
       "           0.0000, 0.0000, 0.0000, 0.0000, 0.0000, 0.0000, 0.0000, 0.0000,\n",
       "           0.0000, 0.0000, 0.0000, 0.0000],\n",
       "          [0.0078, 0.0078, 0.0078, 0.0078, 0.0078, 0.0078, 0.0078, 0.0078,\n",
       "           0.0078, 0.0078, 0.0078, 0.0078, 0.0078, 0.0078, 0.0078, 0.0078,\n",
       "           0.0078, 0.0078, 0.0078, 0.0078, 0.0078, 0.0078, 0.0078, 0.0078,\n",
       "           0.0078, 0.0078, 0.0078, 0.0078]]]])"
      ]
     },
     "execution_count": 29,
     "metadata": {},
     "output_type": "execute_result"
    }
   ],
   "source": [
    "response = requests.get('https://miro.medium.com/v2/resize:fit:451/0*kKxxK1YXSyWMEBtS.PNG')\n",
    "bytes_im = io.BytesIO(response.content)\n",
    "cv_im = cv2.cvtColor(np.array(Image.open(bytes_im).resize((28, 28))), cv2.COLOR_BGR2GRAY)\n",
    "cv_im = cv_im.astype(np.float32) / 255\n",
    "cv_im = torch.Tensor(np.asarray([[cv_im]]))\n",
    "cv_im"
   ]
  },
  {
   "cell_type": "code",
   "execution_count": 34,
   "metadata": {},
   "outputs": [
    {
     "data": {
      "text/plain": [
       "<matplotlib.image.AxesImage at 0x211fac33080>"
      ]
     },
     "execution_count": 34,
     "metadata": {},
     "output_type": "execute_result"
    },
    {
     "data": {
      "image/png": "[encoded data removed]",
      "text/plain": [
       "<Figure size 432x288 with 1 Axes>"
      ]
     },
     "metadata": {
      "needs_background": "light"
     },
     "output_type": "display_data"
    }
   ],
   "source": [
    "plt.imshow(cv_im.reshape((28,28)), cmap='gray')"
   ]
  },
  {
   "cell_type": "code",
   "execution_count": 38,
   "metadata": {},
   "outputs": [
    {
     "name": "stdout",
     "output_type": "stream",
     "text": [
      "predicted digit 3 with probability 1.0\n"
     ]
    }
   ],
   "source": [
    "out = lenet(cv_im)\n",
    "probs = f.softmax(out, dim=-1).detach().numpy()\n",
    "pred = np.argmax(probs)\n",
    "print(f'predicted digit {pred} with probability {probs[0, pred]}')"
   ]
  }
 ],
 "metadata": {
  "kernelspec": {
   "display_name": "my_env",
   "language": "python",
   "name": "my_env"
  },
  "language_info": {
   "codemirror_mode": {
    "name": "ipython",
    "version": 3
   },
   "file_extension": ".py",
   "mimetype": "text/x-python",
   "name": "python",
   "nbconvert_exporter": "python",
   "pygments_lexer": "ipython3",
   "version": "3.6.12"
  }
 },
 "nbformat": 4,
 "nbformat_minor": 4
}
